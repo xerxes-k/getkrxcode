{
 "cells": [
  {
   "cell_type": "code",
   "execution_count": 6,
   "metadata": {},
   "outputs": [],
   "source": [
    "import requests\n",
    "from dotenv import load_dotenv\n",
    "import os, json\n",
    "import ssl, certifi"
   ]
  },
  {
   "cell_type": "code",
   "execution_count": 2,
   "metadata": {},
   "outputs": [],
   "source": [
    "load_dotenv()\n",
    "serviceKey = os.getenv(\"serviceKey\")\n"
   ]
  },
  {
   "cell_type": "code",
   "execution_count": 3,
   "metadata": {},
   "outputs": [
    {
     "name": "stdout",
     "output_type": "stream",
     "text": [
      "9oQfMyz11q4DIZ5tZxVvbncwO0hqkA9%2F%2B%2FzmFZiYlZtFEuQMCYVH1dyT%2BIAnQ%2FgYG7UhmYCeQFQW8vVBHC%2F%2F7A%3D%3D\n"
     ]
    }
   ],
   "source": [
    "print(serviceKey)"
   ]
  },
  {
   "cell_type": "code",
   "execution_count": 11,
   "metadata": {},
   "outputs": [],
   "source": [
    "headers = {\n",
    "    \"User-Agent\": \"Mozilla/5.0 (Windows NT 10.0; Win64; x64) AppleWebKit/537.36 (KHTML, like Gecko) Chrome/91.0.4472.124 Safari/537.36\"\n",
    "}\n",
    "# response = requests.get(url, )\n",
    "# print(response.json())\n"
   ]
  },
  {
   "cell_type": "code",
   "execution_count": 4,
   "metadata": {},
   "outputs": [],
   "source": [
    "# API endpoint\n",
    "BASE_URL = \"https://apis.data.go.kr/1160100/service/GetKrxListedInfoService/getItemInfo\"\n",
    "\n",
    "# Parameters for the API request\n",
    "params = {\n",
    "    \"serviceKey\": serviceKey,   # Required service key\n",
    "    \"numOfRows\": 10,         # Number of results per page\n",
    "    \"pageNo\": 1,             # Page number\n",
    "    \"resultType\": \"json\",    # Response format (json or xml)\n",
    "    # Add optional parameters here (e.g., basDt, beginBasDt, endBasDt, etc.)\n",
    "}"
   ]
  },
  {
   "cell_type": "code",
   "execution_count": 15,
   "metadata": {},
   "outputs": [
    {
     "name": "stdout",
     "output_type": "stream",
     "text": [
      "{'response': {'header': {'resultCode': '00', 'resultMsg': 'NORMAL SERVICE.'}, 'body': {'numOfRows': 10, 'pageNo': 1, 'totalCount': 3011744, 'items': {'item': [{'basDt': '20241120', 'srtnCd': 'A000020', 'isinCd': 'KR7000020008', 'mrktCtg': 'KOSPI', 'itmsNm': '동화약품', 'crno': '1101110043870', 'corpNm': '동화약품(주)'}, {'basDt': '20241120', 'srtnCd': 'A000040', 'isinCd': 'KR7000040006', 'mrktCtg': 'KOSPI', 'itmsNm': 'KR모터스', 'crno': '1601110007032', 'corpNm': 'KR모터스(주)'}, {'basDt': '20241120', 'srtnCd': 'A000050', 'isinCd': 'KR7000050005', 'mrktCtg': 'KOSPI', 'itmsNm': '경방', 'crno': '1101110013287', 'corpNm': '(주)경방'}, {'basDt': '20241120', 'srtnCd': 'A000070', 'isinCd': 'KR7000070003', 'mrktCtg': 'KOSPI', 'itmsNm': '삼양홀딩스', 'crno': '1101110026181', 'corpNm': '(주)삼양홀딩스'}, {'basDt': '20241120', 'srtnCd': 'A000080', 'isinCd': 'KR7000080002', 'mrktCtg': 'KOSPI', 'itmsNm': '하이트진로', 'crno': '1101110028591', 'corpNm': '하이트진로(주)'}, {'basDt': '20241120', 'srtnCd': 'A000100', 'isinCd': 'KR7000100008', 'mrktCtg': 'KOSPI', 'itmsNm': '유한양행', 'crno': '1101110014409', 'corpNm': '(주)유한양행'}, {'basDt': '20241120', 'srtnCd': 'A000120', 'isinCd': 'KR7000120006', 'mrktCtg': 'KOSPI', 'itmsNm': 'CJ대한통운', 'crno': '1101110006167', 'corpNm': '씨제이대한통운(주)'}, {'basDt': '20241120', 'srtnCd': 'A000140', 'isinCd': 'KR7000140004', 'mrktCtg': 'KOSPI', 'itmsNm': '하이트진로홀딩스', 'crno': '1101110013766', 'corpNm': '하이트진로홀딩스(주)'}, {'basDt': '20241120', 'srtnCd': 'A000150', 'isinCd': 'KR7000150003', 'mrktCtg': 'KOSPI', 'itmsNm': '두산', 'crno': '1101110013774', 'corpNm': '(주)두산'}, {'basDt': '20241120', 'srtnCd': 'A000180', 'isinCd': 'KR7000180000', 'mrktCtg': 'KOSPI', 'itmsNm': '성창기업지주', 'crno': '1801110001717', 'corpNm': '성창기업지주(주)'}]}}}}\n"
     ]
    }
   ],
   "source": [
    "import httpx\n",
    "\n",
    "url = \"https://apis.data.go.kr/1160100/service/GetKrxListedInfoService/getItemInfo?serviceKey=9oQfMyz11q4DIZ5tZxVvbncwO0hqkA9%2F%2B%2FzmFZiYlZtFEuQMCYVH1dyT%2BIAnQ%2FgYG7UhmYCeQFQW8vVBHC%2F%2F7A%3D%3D&numOfRows=10&resultType=json\"\n",
    "response = httpx.get(url)\n",
    "print(response.json())\n"
   ]
  },
  {
   "cell_type": "code",
   "execution_count": 14,
   "metadata": {},
   "outputs": [
    {
     "data": {
      "text/plain": [
       "<Response [200]>"
      ]
     },
     "execution_count": 14,
     "metadata": {},
     "output_type": "execute_result"
    }
   ],
   "source": [
    "requests.get(\"http://apis.data.go.kr/1160100/service/GetKrxListedInfoService/getItemInfo?serviceKey=9oQfMyz11q4DIZ5tZxVvbncwO0hqkA9%2F%2B%2FzmFZiYlZtFEuQMCYVH1dyT%2BIAnQ%2FgYG7UhmYCeQFQW8vVBHC%2F%2F7A%3D%3D&numOfRows=10&resultType=json\", headers=headers)"
   ]
  },
  {
   "cell_type": "code",
   "execution_count": null,
   "metadata": {},
   "outputs": [],
   "source": [
    "import requests\n",
    "from urllib.parse import urlencode\n",
    "\n",
    "base_url = \"https://apis.data.go.kr/1160100/service/GetKrxListedInfoService/getItemInfo\"\n",
    "params = {\n",
    "    \"serviceKey\": \"9oQfMyz11q4DIZ5tZxVvbncwO0hqkA9%2F%2B%2FzmFZiYlZtFEuQMCYVH1dyT%2BIAnQ%2FgYG7UhmYCeQFQW8vVBHC%2F%2F7A%3D%3D\",\n",
    "    \"numOfRows\": \"10\",\n",
    "    \"resultType\": \"json\"\n",
    "}\n",
    "url = f\"{base_url}?{urlencode(params)}\"\n",
    "\n",
    "response = requests.get(url)\n",
    "print(response.json())\n"
   ]
  },
  {
   "cell_type": "code",
   "execution_count": 12,
   "metadata": {},
   "outputs": [
    {
     "name": "stdout",
     "output_type": "stream",
     "text": [
      "An error occurred: HTTPSConnectionPool(host='apis.data.go.kr', port=443): Max retries exceeded with url: /1160100/service/GetKrxListedInfoService/getItemInfo?serviceKey=9oQfMyz11q4DIZ5tZxVvbncwO0hqkA9%252F%252B%252FzmFZiYlZtFEuQMCYVH1dyT%252BIAnQ%252FgYG7UhmYCeQFQW8vVBHC%252F%252F7A%253D%253D&numOfRows=10&resultType=json (Caused by SSLError(SSLError(1, '[SSL: SSLV3_ALERT_ILLEGAL_PARAMETER] sslv3 alert illegal parameter (_ssl.c:1002)')))\n"
     ]
    }
   ],
   "source": [
    "try:\n",
    "    # Send GET request\n",
    "    response = requests.get(BASE_URL, headers=headers, params=params)\n",
    "    \n",
    "    # Check response status\n",
    "    if response.status_code == 200:\n",
    "        # Parse JSON response\n",
    "        data = response.json()\n",
    "        \n",
    "        # Print response for demonstration\n",
    "        print(json.dumps(data, indent=4, ensure_ascii=False))\n",
    "        \n",
    "        # Example: Access specific fields\n",
    "        items = data.get(\"response\", {}).get(\"body\", {}).get(\"items\", {}).get(\"item\", [])\n",
    "        for item in items:\n",
    "            print(f\"종목명: {item['itmsNm']}, 단축코드: {item['srtnCd']}, 시장: {item['mrktCtg']}\")\n",
    "    else:\n",
    "        print(f\"Error: {response.status_code}, {response.text}\")\n",
    "\n",
    "except Exception as e:\n",
    "    print(f\"An error occurred: {e}\")"
   ]
  },
  {
   "cell_type": "code",
   "execution_count": null,
   "metadata": {},
   "outputs": [],
   "source": []
  }
 ],
 "metadata": {
  "kernelspec": {
   "display_name": "Python 3",
   "language": "python",
   "name": "python3"
  },
  "language_info": {
   "codemirror_mode": {
    "name": "ipython",
    "version": 3
   },
   "file_extension": ".py",
   "mimetype": "text/x-python",
   "name": "python",
   "nbconvert_exporter": "python",
   "pygments_lexer": "ipython3",
   "version": "3.11.4"
  }
 },
 "nbformat": 4,
 "nbformat_minor": 2
}

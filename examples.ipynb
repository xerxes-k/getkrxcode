{
 "cells": [
  {
   "cell_type": "code",
   "execution_count": 14,
   "metadata": {},
   "outputs": [],
   "source": [
    "import requests\n",
    "from dotenv import load_dotenv\n",
    "import os, json"
   ]
  },
  {
   "cell_type": "code",
   "execution_count": 5,
   "metadata": {},
   "outputs": [],
   "source": [
    "load_dotenv()\n",
    "serviceKey = os.getenv(\"serviceKey\")\n"
   ]
  },
  {
   "cell_type": "code",
   "execution_count": null,
   "metadata": {},
   "outputs": [],
   "source": [
    "# API endpoint\n",
    "BASE_URL = \"https://apis.data.go.kr/1160100/service/GetKrxListedInfoService/getItemInfo\"\n",
    "\n",
    "# Parameters for the API request\n",
    "params = {\n",
    "    \"serviceKey\": serviceKey,   # Required service key\n",
    "    \"numOfRows\": 10,         # Number of results per page\n",
    "    \"pageNo\": 1,             # Page number\n",
    "    \"resultType\": \"json\",    # Response format (json or xml)\n",
    "    # Add optional parameters here (e.g., basDt, beginBasDt, endBasDt, etc.)\n",
    "}"
   ]
  },
  {
   "cell_type": "code",
   "execution_count": 15,
   "metadata": {},
   "outputs": [
    {
     "name": "stdout",
     "output_type": "stream",
     "text": [
      "An error occurred: HTTPSConnectionPool(host='apis.data.go.kr', port=443): Max retries exceeded with url: /1160100/service/GetKrxListedInfoService/getItemInfo?serviceKey=9oQfMyz11q4DIZ5tZxVvbncwO0hqkA9%252F%252B%252FzmFZiYlZtFEuQMCYVH1dyT%252BIAnQ%252FgYG7UhmYCeQFQW8vVBHC%252F%252F7A%253D%253D&numOfRows=10&pageNo=1&resultType=json (Caused by SSLError(SSLError(1, '[SSL: SSLV3_ALERT_ILLEGAL_PARAMETER] sslv3 alert illegal parameter (_ssl.c:1000)')))\n"
     ]
    }
   ],
   "source": [
    "try:\n",
    "    # Send GET request\n",
    "    response = requests.get(BASE_URL, params=params)\n",
    "    \n",
    "    # Check response status\n",
    "    if response.status_code == 200:\n",
    "        # Parse JSON response\n",
    "        data = response.json()\n",
    "        \n",
    "        # Print response for demonstration\n",
    "        print(json.dumps(data, indent=4, ensure_ascii=False))\n",
    "        \n",
    "        # Example: Access specific fields\n",
    "        items = data.get(\"response\", {}).get(\"body\", {}).get(\"items\", {}).get(\"item\", [])\n",
    "        for item in items:\n",
    "            print(f\"종목명: {item['itmsNm']}, 단축코드: {item['srtnCd']}, 시장: {item['mrktCtg']}\")\n",
    "    else:\n",
    "        print(f\"Error: {response.status_code}, {response.text}\")\n",
    "\n",
    "except Exception as e:\n",
    "    print(f\"An error occurred: {e}\")"
   ]
  },
  {
   "cell_type": "code",
   "execution_count": null,
   "metadata": {},
   "outputs": [],
   "source": []
  }
 ],
 "metadata": {
  "kernelspec": {
   "display_name": "Python 3",
   "language": "python",
   "name": "python3"
  },
  "language_info": {
   "codemirror_mode": {
    "name": "ipython",
    "version": 3
   },
   "file_extension": ".py",
   "mimetype": "text/x-python",
   "name": "python",
   "nbconvert_exporter": "python",
   "pygments_lexer": "ipython3",
   "version": "3.12.3"
  }
 },
 "nbformat": 4,
 "nbformat_minor": 2
}
